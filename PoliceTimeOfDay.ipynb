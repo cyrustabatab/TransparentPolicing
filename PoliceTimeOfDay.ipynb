{
 "cells": [
  {
   "cell_type": "code",
   "execution_count": 1,
   "id": "ambient-resort",
   "metadata": {},
   "outputs": [],
   "source": [
    "import pandas as pd\n",
    "import seaborn as sns\n",
    "import matplotlib.pyplot as plt\n",
    "import numpy as np\n",
    "import plotly.express as px\n",
    "%matplotlib inline"
   ]
  },
  {
   "cell_type": "code",
   "execution_count": 11,
   "id": "monetary-tomato",
   "metadata": {},
   "outputs": [
    {
     "data": {
      "text/html": [
       "<div>\n",
       "<style scoped>\n",
       "    .dataframe tbody tr th:only-of-type {\n",
       "        vertical-align: middle;\n",
       "    }\n",
       "\n",
       "    .dataframe tbody tr th {\n",
       "        vertical-align: top;\n",
       "    }\n",
       "\n",
       "    .dataframe thead th {\n",
       "        text-align: right;\n",
       "    }\n",
       "</style>\n",
       "<table border=\"1\" class=\"dataframe\">\n",
       "  <thead>\n",
       "    <tr style=\"text-align: right;\">\n",
       "      <th></th>\n",
       "      <th>state</th>\n",
       "      <th>stop_date</th>\n",
       "      <th>stop_time</th>\n",
       "      <th>county_name</th>\n",
       "      <th>driver_gender</th>\n",
       "      <th>driver_race</th>\n",
       "      <th>violation_raw</th>\n",
       "      <th>violation</th>\n",
       "      <th>search_conducted</th>\n",
       "      <th>search_type</th>\n",
       "      <th>stop_outcome</th>\n",
       "      <th>is_arrested</th>\n",
       "      <th>stop_duration</th>\n",
       "      <th>drugs_related_stop</th>\n",
       "      <th>district</th>\n",
       "    </tr>\n",
       "  </thead>\n",
       "  <tbody>\n",
       "    <tr>\n",
       "      <th>0</th>\n",
       "      <td>RI</td>\n",
       "      <td>2005-01-04</td>\n",
       "      <td>12:55</td>\n",
       "      <td>NaN</td>\n",
       "      <td>M</td>\n",
       "      <td>White</td>\n",
       "      <td>Equipment/Inspection Violation</td>\n",
       "      <td>Equipment</td>\n",
       "      <td>False</td>\n",
       "      <td>NaN</td>\n",
       "      <td>Citation</td>\n",
       "      <td>False</td>\n",
       "      <td>0-15 Min</td>\n",
       "      <td>False</td>\n",
       "      <td>Zone X4</td>\n",
       "    </tr>\n",
       "    <tr>\n",
       "      <th>1</th>\n",
       "      <td>RI</td>\n",
       "      <td>2005-01-23</td>\n",
       "      <td>23:15</td>\n",
       "      <td>NaN</td>\n",
       "      <td>M</td>\n",
       "      <td>White</td>\n",
       "      <td>Speeding</td>\n",
       "      <td>Speeding</td>\n",
       "      <td>False</td>\n",
       "      <td>NaN</td>\n",
       "      <td>Citation</td>\n",
       "      <td>False</td>\n",
       "      <td>0-15 Min</td>\n",
       "      <td>False</td>\n",
       "      <td>Zone K3</td>\n",
       "    </tr>\n",
       "    <tr>\n",
       "      <th>2</th>\n",
       "      <td>RI</td>\n",
       "      <td>2005-02-17</td>\n",
       "      <td>04:15</td>\n",
       "      <td>NaN</td>\n",
       "      <td>M</td>\n",
       "      <td>White</td>\n",
       "      <td>Speeding</td>\n",
       "      <td>Speeding</td>\n",
       "      <td>False</td>\n",
       "      <td>NaN</td>\n",
       "      <td>Citation</td>\n",
       "      <td>False</td>\n",
       "      <td>0-15 Min</td>\n",
       "      <td>False</td>\n",
       "      <td>Zone X4</td>\n",
       "    </tr>\n",
       "    <tr>\n",
       "      <th>3</th>\n",
       "      <td>RI</td>\n",
       "      <td>2005-02-20</td>\n",
       "      <td>17:15</td>\n",
       "      <td>NaN</td>\n",
       "      <td>M</td>\n",
       "      <td>White</td>\n",
       "      <td>Call for Service</td>\n",
       "      <td>Other</td>\n",
       "      <td>False</td>\n",
       "      <td>NaN</td>\n",
       "      <td>Arrest Driver</td>\n",
       "      <td>True</td>\n",
       "      <td>16-30 Min</td>\n",
       "      <td>False</td>\n",
       "      <td>Zone X1</td>\n",
       "    </tr>\n",
       "    <tr>\n",
       "      <th>4</th>\n",
       "      <td>RI</td>\n",
       "      <td>2005-02-24</td>\n",
       "      <td>01:20</td>\n",
       "      <td>NaN</td>\n",
       "      <td>F</td>\n",
       "      <td>White</td>\n",
       "      <td>Speeding</td>\n",
       "      <td>Speeding</td>\n",
       "      <td>False</td>\n",
       "      <td>NaN</td>\n",
       "      <td>Citation</td>\n",
       "      <td>False</td>\n",
       "      <td>0-15 Min</td>\n",
       "      <td>False</td>\n",
       "      <td>Zone X3</td>\n",
       "    </tr>\n",
       "    <tr>\n",
       "      <th>...</th>\n",
       "      <td>...</td>\n",
       "      <td>...</td>\n",
       "      <td>...</td>\n",
       "      <td>...</td>\n",
       "      <td>...</td>\n",
       "      <td>...</td>\n",
       "      <td>...</td>\n",
       "      <td>...</td>\n",
       "      <td>...</td>\n",
       "      <td>...</td>\n",
       "      <td>...</td>\n",
       "      <td>...</td>\n",
       "      <td>...</td>\n",
       "      <td>...</td>\n",
       "      <td>...</td>\n",
       "    </tr>\n",
       "    <tr>\n",
       "      <th>91736</th>\n",
       "      <td>RI</td>\n",
       "      <td>2015-12-31</td>\n",
       "      <td>21:21</td>\n",
       "      <td>NaN</td>\n",
       "      <td>F</td>\n",
       "      <td>Black</td>\n",
       "      <td>Other Traffic Violation</td>\n",
       "      <td>Moving violation</td>\n",
       "      <td>False</td>\n",
       "      <td>NaN</td>\n",
       "      <td>Citation</td>\n",
       "      <td>False</td>\n",
       "      <td>0-15 Min</td>\n",
       "      <td>False</td>\n",
       "      <td>Zone K2</td>\n",
       "    </tr>\n",
       "    <tr>\n",
       "      <th>91737</th>\n",
       "      <td>RI</td>\n",
       "      <td>2015-12-31</td>\n",
       "      <td>21:59</td>\n",
       "      <td>NaN</td>\n",
       "      <td>F</td>\n",
       "      <td>White</td>\n",
       "      <td>Speeding</td>\n",
       "      <td>Speeding</td>\n",
       "      <td>False</td>\n",
       "      <td>NaN</td>\n",
       "      <td>Citation</td>\n",
       "      <td>False</td>\n",
       "      <td>0-15 Min</td>\n",
       "      <td>False</td>\n",
       "      <td>Zone K3</td>\n",
       "    </tr>\n",
       "    <tr>\n",
       "      <th>91738</th>\n",
       "      <td>RI</td>\n",
       "      <td>2015-12-31</td>\n",
       "      <td>22:04</td>\n",
       "      <td>NaN</td>\n",
       "      <td>M</td>\n",
       "      <td>White</td>\n",
       "      <td>Other Traffic Violation</td>\n",
       "      <td>Moving violation</td>\n",
       "      <td>False</td>\n",
       "      <td>NaN</td>\n",
       "      <td>Citation</td>\n",
       "      <td>False</td>\n",
       "      <td>0-15 Min</td>\n",
       "      <td>False</td>\n",
       "      <td>Zone X3</td>\n",
       "    </tr>\n",
       "    <tr>\n",
       "      <th>91739</th>\n",
       "      <td>RI</td>\n",
       "      <td>2015-12-31</td>\n",
       "      <td>22:09</td>\n",
       "      <td>NaN</td>\n",
       "      <td>F</td>\n",
       "      <td>Hispanic</td>\n",
       "      <td>Equipment/Inspection Violation</td>\n",
       "      <td>Equipment</td>\n",
       "      <td>False</td>\n",
       "      <td>NaN</td>\n",
       "      <td>Warning</td>\n",
       "      <td>False</td>\n",
       "      <td>0-15 Min</td>\n",
       "      <td>False</td>\n",
       "      <td>Zone K3</td>\n",
       "    </tr>\n",
       "    <tr>\n",
       "      <th>91740</th>\n",
       "      <td>RI</td>\n",
       "      <td>2015-12-31</td>\n",
       "      <td>22:47</td>\n",
       "      <td>NaN</td>\n",
       "      <td>M</td>\n",
       "      <td>White</td>\n",
       "      <td>Registration Violation</td>\n",
       "      <td>Registration/plates</td>\n",
       "      <td>False</td>\n",
       "      <td>NaN</td>\n",
       "      <td>Citation</td>\n",
       "      <td>False</td>\n",
       "      <td>0-15 Min</td>\n",
       "      <td>False</td>\n",
       "      <td>Zone X4</td>\n",
       "    </tr>\n",
       "  </tbody>\n",
       "</table>\n",
       "<p>91741 rows × 15 columns</p>\n",
       "</div>"
      ],
      "text/plain": [
       "      state   stop_date stop_time  county_name driver_gender driver_race  \\\n",
       "0        RI  2005-01-04     12:55          NaN             M       White   \n",
       "1        RI  2005-01-23     23:15          NaN             M       White   \n",
       "2        RI  2005-02-17     04:15          NaN             M       White   \n",
       "3        RI  2005-02-20     17:15          NaN             M       White   \n",
       "4        RI  2005-02-24     01:20          NaN             F       White   \n",
       "...     ...         ...       ...          ...           ...         ...   \n",
       "91736    RI  2015-12-31     21:21          NaN             F       Black   \n",
       "91737    RI  2015-12-31     21:59          NaN             F       White   \n",
       "91738    RI  2015-12-31     22:04          NaN             M       White   \n",
       "91739    RI  2015-12-31     22:09          NaN             F    Hispanic   \n",
       "91740    RI  2015-12-31     22:47          NaN             M       White   \n",
       "\n",
       "                        violation_raw            violation  search_conducted  \\\n",
       "0      Equipment/Inspection Violation            Equipment             False   \n",
       "1                            Speeding             Speeding             False   \n",
       "2                            Speeding             Speeding             False   \n",
       "3                    Call for Service                Other             False   \n",
       "4                            Speeding             Speeding             False   \n",
       "...                               ...                  ...               ...   \n",
       "91736         Other Traffic Violation     Moving violation             False   \n",
       "91737                        Speeding             Speeding             False   \n",
       "91738         Other Traffic Violation     Moving violation             False   \n",
       "91739  Equipment/Inspection Violation            Equipment             False   \n",
       "91740          Registration Violation  Registration/plates             False   \n",
       "\n",
       "      search_type   stop_outcome is_arrested stop_duration  \\\n",
       "0             NaN       Citation       False      0-15 Min   \n",
       "1             NaN       Citation       False      0-15 Min   \n",
       "2             NaN       Citation       False      0-15 Min   \n",
       "3             NaN  Arrest Driver        True     16-30 Min   \n",
       "4             NaN       Citation       False      0-15 Min   \n",
       "...           ...            ...         ...           ...   \n",
       "91736         NaN       Citation       False      0-15 Min   \n",
       "91737         NaN       Citation       False      0-15 Min   \n",
       "91738         NaN       Citation       False      0-15 Min   \n",
       "91739         NaN        Warning       False      0-15 Min   \n",
       "91740         NaN       Citation       False      0-15 Min   \n",
       "\n",
       "       drugs_related_stop district  \n",
       "0                   False  Zone X4  \n",
       "1                   False  Zone K3  \n",
       "2                   False  Zone X4  \n",
       "3                   False  Zone X1  \n",
       "4                   False  Zone X3  \n",
       "...                   ...      ...  \n",
       "91736               False  Zone K2  \n",
       "91737               False  Zone K3  \n",
       "91738               False  Zone X3  \n",
       "91739               False  Zone K3  \n",
       "91740               False  Zone X4  \n",
       "\n",
       "[91741 rows x 15 columns]"
      ]
     },
     "execution_count": 11,
     "metadata": {},
     "output_type": "execute_result"
    }
   ],
   "source": [
    "police = pd.read_csv(\"police.csv\")\n",
    "police"
   ]
  },
  {
   "cell_type": "code",
   "execution_count": 12,
   "id": "brutal-finish",
   "metadata": {},
   "outputs": [],
   "source": [
    "police.stop_date = pd.to_datetime(police.stop_date + ' ' + police.stop_time)"
   ]
  },
  {
   "cell_type": "code",
   "execution_count": 18,
   "id": "ecological-tonight",
   "metadata": {},
   "outputs": [],
   "source": [
    "police.rename({'stop_date':'stop_datetime'},inplace=True,axis=1)"
   ]
  },
  {
   "cell_type": "code",
   "execution_count": 19,
   "id": "dental-polish",
   "metadata": {},
   "outputs": [],
   "source": [
    "police.set_index('stop_datetime',inplace=True)"
   ]
  },
  {
   "cell_type": "code",
   "execution_count": 14,
   "id": "judicial-postcard",
   "metadata": {},
   "outputs": [],
   "source": [
    "police.dropna(how='all',axis=1,inplace=True)"
   ]
  },
  {
   "cell_type": "code",
   "execution_count": 15,
   "id": "sapphire-flashing",
   "metadata": {},
   "outputs": [],
   "source": [
    "police.drop('state',axis=1,inplace=True)"
   ]
  },
  {
   "cell_type": "code",
   "execution_count": 20,
   "id": "wrapped-newcastle",
   "metadata": {},
   "outputs": [
    {
     "name": "stdout",
     "output_type": "stream",
     "text": [
      "<class 'pandas.core.frame.DataFrame'>\n",
      "DatetimeIndex: 91741 entries, 2005-01-04 12:55:00 to 2015-12-31 22:47:00\n",
      "Data columns (total 12 columns):\n",
      " #   Column              Non-Null Count  Dtype \n",
      "---  ------              --------------  ----- \n",
      " 0   stop_time           91741 non-null  object\n",
      " 1   driver_gender       86536 non-null  object\n",
      " 2   driver_race         86539 non-null  object\n",
      " 3   violation_raw       86539 non-null  object\n",
      " 4   violation           86539 non-null  object\n",
      " 5   search_conducted    91741 non-null  bool  \n",
      " 6   search_type         3307 non-null   object\n",
      " 7   stop_outcome        86539 non-null  object\n",
      " 8   is_arrested         86539 non-null  object\n",
      " 9   stop_duration       86539 non-null  object\n",
      " 10  drugs_related_stop  91741 non-null  bool  \n",
      " 11  district            91741 non-null  object\n",
      "dtypes: bool(2), object(10)\n",
      "memory usage: 7.9+ MB\n"
     ]
    }
   ],
   "source": [
    "police"
   ]
  },
  {
   "cell_type": "markdown",
   "id": "criminal-command",
   "metadata": {},
   "source": [
    "# What hours have the highest arrest rate?"
   ]
  },
  {
   "cell_type": "code",
   "execution_count": 22,
   "id": "swedish-horizontal",
   "metadata": {},
   "outputs": [],
   "source": [
    "police.drop('stop_time',axis=1,inplace=True)"
   ]
  },
  {
   "cell_type": "code",
   "execution_count": 26,
   "id": "super-conducting",
   "metadata": {},
   "outputs": [
    {
     "data": {
      "text/plain": [
       "Int64Index([12, 23,  4, 17,  1, 10, 21, 21, 11, 19,\n",
       "            ...\n",
       "            13, 18, 19, 20, 20, 21, 21, 22, 22, 22],\n",
       "           dtype='int64', name='stop_datetime', length=91741)"
      ]
     },
     "execution_count": 26,
     "metadata": {},
     "output_type": "execute_result"
    }
   ],
   "source": [
    "police.index.hour"
   ]
  },
  {
   "cell_type": "code",
   "execution_count": 33,
   "id": "sensitive-broad",
   "metadata": {},
   "outputs": [],
   "source": [
    "police.is_arrested = police.is_arrested.astype('bool')"
   ]
  },
  {
   "cell_type": "code",
   "execution_count": 35,
   "id": "guided-cemetery",
   "metadata": {},
   "outputs": [],
   "source": [
    "hourly_arrest_rate =police.groupby(police.index.hour).is_arrested.mean()"
   ]
  },
  {
   "cell_type": "code",
   "execution_count": 36,
   "id": "weighted-maine",
   "metadata": {},
   "outputs": [
    {
     "data": {
      "text/plain": [
       "<AxesSubplot:xlabel='stop_datetime'>"
      ]
     },
     "execution_count": 36,
     "metadata": {},
     "output_type": "execute_result"
    },
    {
     "data": {
      "image/png": "[encoded data removed]",
      "text/plain": [
       "<Figure size 432x288 with 1 Axes>"
      ]
     },
     "metadata": {
      "needs_background": "light"
     },
     "output_type": "display_data"
    }
   ],
   "source": [
    "hourly_arrest_rate.plot()"
   ]
  },
  {
   "cell_type": "markdown",
   "id": "postal-volume",
   "metadata": {},
   "source": [
    "# Are drug-related stops increasing?"
   ]
  },
  {
   "cell_type": "code",
   "execution_count": 42,
   "id": "cardiovascular-racing",
   "metadata": {},
   "outputs": [
    {
     "data": {
      "text/plain": [
       "<AxesSubplot:xlabel='stop_datetime'>"
      ]
     },
     "execution_count": 42,
     "metadata": {},
     "output_type": "execute_result"
    },
    {
     "data": {
      "image/png": "[encoded data removed]",
      "text/plain": [
       "<Figure size 432x288 with 1 Axes>"
      ]
     },
     "metadata": {
      "needs_background": "light"
     },
     "output_type": "display_data"
    }
   ],
   "source": [
    "police.drugs_related_stop.resample('A',kind='period').mean().plot()"
   ]
  },
  {
   "cell_type": "code",
   "execution_count": 48,
   "id": "cross-rwanda",
   "metadata": {},
   "outputs": [
    {
     "data": {
      "text/plain": [
       "array([<AxesSubplot:xlabel='stop_datetime'>,\n",
       "       <AxesSubplot:xlabel='stop_datetime'>], dtype=object)"
      ]
     },
     "execution_count": 48,
     "metadata": {},
     "output_type": "execute_result"
    },
    {
     "data": {
      "image/png": "[encoded data removed]",
      "text/plain": [
       "<Figure size 432x288 with 2 Axes>"
      ]
     },
     "metadata": {
      "needs_background": "light"
     },
     "output_type": "display_data"
    }
   ],
   "source": [
    "police.resample(\"A\",kind='period')[['drugs_related_stop','search_conducted']].mean().plot(subplots=True)"
   ]
  },
  {
   "cell_type": "code",
   "execution_count": 52,
   "id": "superior-wells",
   "metadata": {},
   "outputs": [],
   "source": [
    "table = pd.crosstab(police.driver_race,police.driver_gender)"
   ]
  },
  {
   "cell_type": "code",
   "execution_count": 56,
   "id": "alpha-reservoir",
   "metadata": {},
   "outputs": [
    {
     "data": {
      "text/plain": [
       "<AxesSubplot:xlabel='driver_race'>"
      ]
     },
     "execution_count": 56,
     "metadata": {},
     "output_type": "execute_result"
    },
    {
     "data": {
      "image/png": "[encoded data removed]",
      "text/plain": [
       "<Figure size 432x288 with 1 Axes>"
      ]
     },
     "metadata": {
      "needs_background": "light"
     },
     "output_type": "display_data"
    }
   ],
   "source": [
    "table.loc['Asian': 'Hispanic'].plot(kind='bar',stacked=True)"
   ]
  },
  {
   "cell_type": "code",
   "execution_count": 58,
   "id": "closed-dominican",
   "metadata": {},
   "outputs": [
    {
     "data": {
      "text/plain": [
       "stop_datetime\n",
       "2005-01-04 12:55:00     0-15 Min\n",
       "2005-01-23 23:15:00     0-15 Min\n",
       "2005-02-17 04:15:00     0-15 Min\n",
       "2005-02-20 17:15:00    16-30 Min\n",
       "2005-02-24 01:20:00     0-15 Min\n",
       "                         ...    \n",
       "2015-12-31 21:21:00     0-15 Min\n",
       "2015-12-31 21:59:00     0-15 Min\n",
       "2015-12-31 22:04:00     0-15 Min\n",
       "2015-12-31 22:09:00     0-15 Min\n",
       "2015-12-31 22:47:00     0-15 Min\n",
       "Name: stop_duration, Length: 91741, dtype: object"
      ]
     },
     "execution_count": 58,
     "metadata": {},
     "output_type": "execute_result"
    }
   ],
   "source": [
    "police.stop_duration"
   ]
  },
  {
   "cell_type": "code",
   "execution_count": 59,
   "id": "portuguese-fancy",
   "metadata": {},
   "outputs": [
    {
     "data": {
      "text/plain": [
       "array(['0-15 Min', '16-30 Min', nan, '30+ Min'], dtype=object)"
      ]
     },
     "execution_count": 59,
     "metadata": {},
     "output_type": "execute_result"
    }
   ],
   "source": [
    "police.stop_duration.unique()"
   ]
  },
  {
   "cell_type": "code",
   "execution_count": 60,
   "id": "configured-subsection",
   "metadata": {},
   "outputs": [],
   "source": [
    "mapping = {'0-15 Min': 8,'16-30 Min': 23,'30+ Min': 45}"
   ]
  },
  {
   "cell_type": "code",
   "execution_count": 62,
   "id": "instrumental-hollow",
   "metadata": {},
   "outputs": [],
   "source": [
    "police['stop_minutes'] = police.stop_duration.map(mapping)"
   ]
  },
  {
   "cell_type": "code",
   "execution_count": 63,
   "id": "colonial-diesel",
   "metadata": {},
   "outputs": [
    {
     "data": {
      "text/plain": [
       "array([ 8., 23., nan, 45.])"
      ]
     },
     "execution_count": 63,
     "metadata": {},
     "output_type": "execute_result"
    }
   ],
   "source": [
    "police.stop_minutes.unique()"
   ]
  },
  {
   "cell_type": "code",
   "execution_count": 69,
   "id": "aboriginal-refrigerator",
   "metadata": {},
   "outputs": [
    {
     "data": {
      "text/plain": [
       "<AxesSubplot:ylabel='violation_raw'>"
      ]
     },
     "execution_count": 69,
     "metadata": {},
     "output_type": "execute_result"
    },
    {
     "data": {
      "image/png": "[encoded data removed]",
      "text/plain": [
       "<Figure size 432x288 with 1 Axes>"
      ]
     },
     "metadata": {
      "needs_background": "light"
     },
     "output_type": "display_data"
    }
   ],
   "source": [
    "police.groupby('violation_raw').stop_minutes.mean().sort_values().plot(kind='barh')"
   ]
  },
  {
   "cell_type": "code",
   "execution_count": null,
   "id": "characteristic-worship",
   "metadata": {},
   "outputs": [],
   "source": []
  },
  {
   "cell_type": "code",
   "execution_count": null,
   "id": "congressional-circuit",
   "metadata": {},
   "outputs": [],
   "source": []
  },
  {
   "cell_type": "code",
   "execution_count": null,
   "id": "signal-customs",
   "metadata": {},
   "outputs": [],
   "source": []
  }
 ],
 "metadata": {
  "kernelspec": {
   "display_name": "Python 3",
   "language": "python",
   "name": "python3"
  },
  "language_info": {
   "codemirror_mode": {
    "name": "ipython",
    "version": 3
   },
   "file_extension": ".py",
   "mimetype": "text/x-python",
   "name": "python",
   "nbconvert_exporter": "python",
   "pygments_lexer": "ipython3",
   "version": "3.7.9"
  }
 },
 "nbformat": 4,
 "nbformat_minor": 5
}
